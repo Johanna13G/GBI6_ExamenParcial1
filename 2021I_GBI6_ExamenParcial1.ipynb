{
 "cells": [
  {
   "cell_type": "markdown",
   "metadata": {},
   "source": [
    "<img src=\"https://www.ikiam.edu.ec/img/logo-ikiam-grey.png\" width=300 height=240 />\n",
    "\n",
    "# EXAMEN PARCIAL 1\n",
    "\n",
    "## GBI6-2021II: BIOINFORMÁTICA\n",
    "\n",
    "**Guarango Veletanga Johanna Estefania**\n",
    "\n",
    "**11-01-2021**"
   ]
  },
  {
   "cell_type": "markdown",
   "metadata": {},
   "source": [
    "<font color='red'>NO AGREGUE NUEVAS CELDAS, UTILICE ÚNICAMENTE LAS QUE ESTÁN CREADAS</font>"
   ]
  },
  {
   "cell_type": "markdown",
   "metadata": {},
   "source": [
    "# 1. UNIX\n",
    "\n",
    "## Ejercicio 1\n",
    "1. Imprimir el directorio de trabajo actual \n",
    "2. Crear un directorio *test1* \n",
    "3. Crear el archivo *test1.txt*\n",
    "4. Guardar el texto *Hola GBI6* en un archivo *test2.txt*\n",
    "5. Guardar la instrucción *print(\"Hola GBI6\")*  en el archivo *test1.py*\n",
    "**Luego seleccione la instrucción que enlista los archivos del directorio test1 y luego imprima el contenido de test2.txt**\n",
    "\n",
    "\n",
    "\n",
    "<img src=\"data/Ejercicio1.JPG\" width=500 height=350 />\n",
    "\n",
    "Una vez utilizado pwd para determinar el directorio actual en el que se va a trabajar, se procedió a crear el directorio *test1* utilizando el comando *mkdir*. Para realizar el paso 2, con el comando *cd* se ingresó al directorio *test1* y se utilizó el comando *touch test1.txt* para crear el archivo de texto. Seguidamente con el comando *echo* se guardó el mensaje propuesto en un nuevo archivo de texto denominado *test2.txt*. Cabe resaltar que no fue necesario utilizar primero el comando *touch* para primero crear el archivo txt, sino directamente usar el comando *echo*. Para el paso 5 se requirió nuevamente del comando *echo* para crear un archivo py y guardar la instrucción pedida. Finalmente, para enlistar los archivos del directorio *list1* se utilizó el comando *ls* y para imprimir el contenido se usó *cat test2.txt*.\n",
    "\n",
    "## Ejercicio 2\n",
    "A partir de los pasos seguidos en el ejercicio 1, seleccione la instrucción que copie test2.txt al directorio test2/subtest1 y después borre el directorio test1.\n",
    "\n",
    "\n",
    "<img src=\"data/Ejercicio2.JPG\" width=500 height=350 />\n",
    "\n",
    "Para el desarrollo de este ejercicio se regresó al directorio de trabajo inicial y con el comando *mkdir -p test2/subtest1* se creó un directorio anidado. Luego mediante el uso del comando *cp* se estableció la carpeta en la que se encuentra el archivo que se desea copiar junto con su nombre y el nombre la la carpeta destino anidada. Debido que *test1* es un directorio, se utilizó el comando *rm -r* para borrar el directorio de forma recursiva.\n",
    "\n",
    "## Ejercicio 3\n",
    "A partir de los pasos seguidos en el ejercicio 1, seleccione la instrucción que permite enlistar el contenido (sin detalles) del directorio test1\n",
    "\n",
    "\n",
    "<img src=\"data/Ejercicio3.JPG\" width=500 height=350 />\n",
    "\n",
    "De auerdo con la ubicación actual del directorio de trabajo, se utilizó el comando *ls test1* para enlistar el contenido sin detalles.\n",
    "\n",
    "## Ejercicio 4\n",
    "Ejercicio **1.10.2 Hormone Levels in Baboons**\n",
    "\n",
    "Gesquière et al. (2011) estudiaron los niveles hormonales en la sangre de los babuinos. Cada individuo fue muestreado varias veces.\n",
    "1. ¿Cuántas veces se registraron los niveles de los individuos 3 y 27?\n",
    "2. Escribir un script tomando como entrada el nombre del archivo y el ID del individuo,y devolver el número de registros para esa identificación.\n",
    "3. Escriba un script que devuelva el número de veces que se muestreó a cada individuo.\n"
   ]
  },
  {
   "cell_type": "code",
   "execution_count": 1,
   "metadata": {},
   "outputs": [
    {
     "name": "stderr",
     "output_type": "stream",
     "text": [
      "C:\\Users\\JOHANNA\\anaconda3\\lib\\site-packages\\IPython\\core\\display.py:717: UserWarning: Consider using IPython.display.IFrame instead\n",
      "  warnings.warn(\"Consider using IPython.display.IFrame instead\")\n"
     ]
    },
    {
     "data": {
      "text/html": [
       "<iframe width=\"560\" height=\"315\" src=\"https://www.youtube.com/embed/3XlZWpLwvvo\" title=\"YouTube video player\" frameborder=\"0\" allow=\"accelerometer; autoplay; clipboard-write; encrypted-media; gyroscope; picture-in-picture\" allowfullscreen></iframe>"
      ],
      "text/plain": [
       "<IPython.core.display.HTML object>"
      ]
     },
     "execution_count": 1,
     "metadata": {},
     "output_type": "execute_result"
    }
   ],
   "source": [
    "# Coloque aquí su video del ejercicio 4\n",
    "from IPython.display import HTML\n",
    "HTML('<<iframe width="560" height="315" src="https://www.youtube.com/embed/u34IhNwECMg" title="YouTube video player" frameborder="0" allow="accelerometer; autoplay; clipboard-write; encrypted-media; gyroscope; picture-in-picture" allowfullscreen></iframe>>')\n"
   ]
  },
  {
   "cell_type": "markdown",
   "metadata": {},
   "source": [
    "Escriba aquí alguna explicación del ejercicio 4 si lo considera necesario (borre esta línea cuando finalice)\n",
    "\n",
    "## Ejercicio 5\n",
    "ejercicio **1.10.4 Data Explorer**\n",
    "Buzzard et al. (2016) recolectaron datos sobre el crecimiento de un bosque en Costa Rica. En el archivo Buzzard2015_data.csv encontrará un subconjunto de sus datos, incluida información taxonómica, abundancia y biomasa de árboles.\n",
    "1. Escriba un script que, para un archivo CSV y un número de columna determinados, imprima\n",
    "\n",
    "● el nombre de la columna correspondiente;\n",
    "\n",
    "● el número de valores distintos en la columna;\n",
    "\n",
    "● el valor mínimo;\n",
    "\n",
    "● el valor máximo.\n"
   ]
  },
  {
   "cell_type": "code",
   "execution_count": 5,
   "metadata": {},
   "outputs": [
    {
     "data": {
      "text/html": [
       "<iframe width="560" height="315" src="https://www.youtube.com/embed/CQBL8YG0cwY" title="YouTube video player" frameborder="0" allow="accelerometer; autoplay; clipboard-write; encrypted-media; gyroscope; picture-in-picture" allowfullscreen></iframe>"
      ],
      "text/plain": [
       "<IPython.core.display.HTML object>"
      ]
     },
     "execution_count": 5,
     "metadata": {},
     "output_type": "execute_result"
    }
   ],
   "source": [
    "# Coloque aquí su video del ejercicio 5\n",
    "from IPython.display import HTML\n",
    "HTML('<iframe width=\"560\" height=\"315\" src=\"https://www.youtube.com/embed/3XlZWpLwvvo\" title=\"YouTube video player\" frameborder=\"0\" allow=\"accelerometer; autoplay; clipboard-write; encrypted-media; gyroscope; picture-in-picture\" allowfullscreen></iframe>')\n"
   ]
  },
  {
   "cell_type": "markdown",
   "metadata": {
    "jp-MarkdownHeadingCollapsed": true,
    "tags": []
   },
   "source": [
    "Escriba aquí alguna explicación del ejercicio 5 si lo considera necesario (borre esta línea cuando finalice)\n",
    "\n",
    "# 2. CONTROL DE LA VERSIÓN\n",
    "## Pregunta 6\n",
    "1. Cree en GitHub un repositorio de nombre ```GBI6_ExamenParcial1```. \n",
    "2. Cree un archivo ```Readme.md``` que debe tener lo siguiente: \n",
    "- Datos personales\n",
    "- Características del computador\n",
    "- Programas utilizados\n",
    "- Explicación de la data utilizada\n",
    "\n",
    "\n",
    "## Pregunta 7\n",
    "1. Cada vez que resuelva un ejercicio (del 1 al 10), utilizando Git Bash, GitHub Desktop o Atom realice un *git push* con el mensaje: \n",
    "\n",
    "\n",
    "<font color='red'>Apellido Nombre ha resuelto el ejercicio 1</font> % Cambie con sus apellidos y nombres; y con el número de ejercicio que corresponda \n",
    "\n",
    "2. Coloque aquí las capturas de pantalla para cada git push realizado desde Git Bash, GitHub Desktop o Atom. \n",
    "\n",
    "- Control de versión ejercicio 1\n",
    "\n",
    "<img src=\"data/Ejercicio1gitpush.JPG\" width=500 height=350 />\n",
    "\n",
    "- Control de versión ejercicio 2\n",
    "\n",
    "<img src=\"data/Ejercicio2gitpush.JPG\" width=600 height=450 />\n",
    "\n",
    "- Control de versión ejercicio 3\n",
    "\n",
    "<img src=\"data/Ejercicio3gitpush.JPG\" width=600 height=450 />\n",
    "\n",
    "- Control de versión ejercicio 4\n",
    "\n",
    "<img src=\"data/Ejercicio4gitpush.JPG\" width=600 height=450 />\n",
    "\n",
    "- Control de versión ejercicio 5\n",
    "\n",
    "<img src=\"data/Ejercicio5gitpush.JPG\" width=600 height=450 />\n",
    "\n",
    "- Control de versión ejercicio 8\n",
    "\n",
    "<img src=\"data/Ejercicio8gitpush.JPG\" width=600 height=450 />\n",
    "\n",
    "- Control de versión ejercicio 9\n",
    "\n",
    "<img src=\"data/Ejercicio9gitpush.JPG\" width=600 height=450 />\n",
    "\n",
    "- Control de versión ejercicio 10\n",
    "\n",
    "<img src=\"data/Ejercicio10gitpush.JPG\" width=600 height=450 />\n",
    "\n",
    "\n",
    "**Git Hub repositorio** https://github.com/Johanna13G/GBI6_ExamenParcial1.git"
   ]
  },
  {
   "cell_type": "markdown",
   "metadata": {},
   "source": [
    "# 3. INTRODUCCIÓN A PYTHON\n",
    "\n",
    "## Ejercicio 8\n",
    "\n",
    "**Para este ejercicio debe debe realizar lo siguiente:**\n",
    "\n",
    "1. Crear un diccionario de nombre dic_genomas, donde se tenga la información de la tabla 1 que se encuentra en https://www.nature.com/scitable/topicpage/eukaryotic-genome-complexity-437/. \n",
    "\n",
    "2. Utilice como \"key\" los valores especie de la columna \"Species and Common Name\" y las otras dos columnas ingrese como \"values\". \n",
    "\n",
    "3. Luego de crear el diccionario, extraiga los valores de \"key\" a una lista de nombre \"especies\"\n",
    "    Extraiga los valores de \"value\" a una lista de nombre \"genomas\"\n"
   ]
  },
  {
   "cell_type": "code",
   "execution_count": 5,
   "metadata": {},
   "outputs": [
    {
     "name": "stdout",
     "output_type": "stream",
     "text": [
      "Type of variable listOfKeys is:  <class 'dict_keys'>\n",
      "['Saccharomyces cerevisiae', 'Trichomonas vaginalis', 'Plasmodium falciparum', 'Caenorhabditis elegans', 'Drosophila melanogaster', 'Arabidopsis thaliana', 'Oryza sativa', 'Gallus gallus', 'Canis familiaris', 'Mus musculus', 'Homo sapiens']\n",
      " \n",
      "Imprime los valores de los keys en una lista individual:\n",
      " \n",
      "Saccharomyces cerevisiae\n",
      "Trichomonas vaginalis\n",
      "Plasmodium falciparum\n",
      "Caenorhabditis elegans\n",
      "Drosophila melanogaster\n",
      "Arabidopsis thaliana\n",
      "Oryza sativa\n",
      "Gallus gallus\n",
      "Canis familiaris\n",
      "Mus musculus\n",
      "Homo sapiens\n",
      "Type of variable listOfKeys is:  <class 'dict_keys'>\n",
      " \n",
      "Imprime la lista completa que contiene todos los values: \n",
      " \n",
      "['Saccharomyces cerevisiae', 'Trichomonas vaginalis', 'Plasmodium falciparum', 'Caenorhabditis elegans', 'Drosophila melanogaster', 'Arabidopsis thaliana', 'Oryza sativa', 'Gallus gallus', 'Canis familiaris', 'Mus musculus', 'Homo sapiens']\n",
      "Imprime el contenido de los values en forma indidual y en una lista:\n",
      " \n",
      "Saccharomyces cerevisiae\n",
      "Trichomonas vaginalis\n",
      "Plasmodium falciparum\n",
      "Caenorhabditis elegans\n",
      "Drosophila melanogaster\n",
      "Arabidopsis thaliana\n",
      "Oryza sativa\n",
      "Gallus gallus\n",
      "Canis familiaris\n",
      "Mus musculus\n",
      "Homo sapiens\n"
     ]
    }
   ],
   "source": [
    "dic_genomas = {\n",
    "    \"Saccharomyces cerevisiae\":[12 , 6.000],\n",
    "\"Trichomonas vaginalis\":[160 , 60.000],\n",
    "\"Plasmodium falciparum\" :[23 , 5.000],\n",
    "\"Caenorhabditis elegans\":[95.5 , 18.000],\n",
    "\"Drosophila melanogaster\":[170 , 14.000],\n",
    "\"Arabidopsis thaliana\":[125 , 25.000],\n",
    "\"Oryza sativa\":[470 , 51.000],\n",
    "\"Gallus gallus\":[1 , 20.000-23.000],\n",
    "\"Canis familiaris\":[ 2.4 , 19.000],\n",
    "\"Mus musculus\": [2.5 , 30.000],\n",
    "\"Homo sapiens\": [2.9 , 20.000-25.000]\n",
    "}\n",
    "dic_genomas\n",
    "\n",
    "#Codigos para extraer los valores de los keys y crear una lista con ellos \n",
    "Especies = dic_genomas.keys()\n",
    "print(\"Type of variable listOfKeys is: \", type(Especies))\n",
    "\n",
    "Especies = list(Especies)\n",
    "print(Especies)\n",
    "print(\" \")\n",
    "print(\"Imprime los valores de los keys en una lista individual:\")\n",
    "print(\" \")\n",
    "\n",
    "for key in Especies:\n",
    "    print(key)\n",
    "    \n",
    "    #Codigos para extraer los valores de los values y crear una lista con ellos \n",
    "    Genomas = dic_genomas.keys()\n",
    "print(\"Type of variable listOfKeys is: \", type(Genomas))\n",
    "print(\" \")\n",
    "Genomas = list(Genomas)\n",
    "print(\"Imprime la lista completa que contiene todos los values: \")\n",
    "print(\" \")\n",
    "print(Genomas)\n",
    "\n",
    "print(\"Imprime el contenido de los values en forma indidual y en una lista:\")\n",
    "print(\" \")\n",
    "\n",
    "for val in Genomas:\n",
    "    print(val)\n",
    "\n"
   ]
  },
  {
   "cell_type": "markdown",
   "metadata": {},
   "source": [
    "## Ejercicio 9\n",
    "\n",
    "Para este ejercicio tiene que crear previamente lo siguiente: \n",
    "\n",
    "En la data https://github.com/sap0408/mtcars/blob/master/mtcars.csv, seleccione los 10 primeros registros y cree una lista de nombre lista1."
   ]
  },
  {
   "cell_type": "code",
   "execution_count": 22,
   "metadata": {},
   "outputs": [
    {
     "data": {
      "text/plain": [
       "11"
      ]
     },
     "execution_count": 22,
     "metadata": {},
     "output_type": "execute_result"
    }
   ],
   "source": [
    "lista1=[\"Mazda RX4\",\"Mazda RX4 Wag\",\"Datsun 710\",\n",
    "        \"Hornet 4 Drive\", \"Hornet Sportabout\",\n",
    "        \"Valiant\",\"Duster 360\",\"Merc 240 D\",\n",
    "        \"Merc 230\",\"Merc 280\"]\n",
    "#Cada codigo a continuación se correrá por separado\n",
    "lista1.append([\"gbi6\", \"bio1\", \"ikiam\"])\n",
    "lista1[-1][-3]\n",
    "#\n",
    "lista1.append([\"gbi6\", \"bio1\", \"ikiam\"])\n",
    "len(lista1)\n",
    "#\n",
    "lista1[4]\n",
    "#\n",
    "lista1[3]\n",
    "#\n",
    "lista1[2:5]\n"
   ]
  },
  {
   "cell_type": "markdown",
   "metadata": {},
   "source": [
    "## Ejercicio 10\n",
    "\n",
    "Para este ejercicio tiene que crear previamente lo siguiente: \n",
    "\n",
    "1. Una lista de nombre lista1 que tenga a las 10 primeras letras del alfabeto.\n"
   ]
  },
  {
   "cell_type": "code",
   "execution_count": 27,
   "metadata": {},
   "outputs": [
    {
     "data": {
      "text/plain": [
       "12"
      ]
     },
     "execution_count": 27,
     "metadata": {},
     "output_type": "execute_result"
    }
   ],
   "source": [
    "lista1=[\"a\",\"b\",\"c\",\"d\",\"e\",\"f\",\"g\",\"h\",\"i\",\"j\"]\n",
    "#Cada codigo a continuación se correrá por separado\n",
    "lista1.append([\"gbi6\", \"bio1\", \"ikiam\"])\n",
    "lista1[-1][-1]\n",
    "#\n",
    "lista1[3]\n",
    "#\n",
    "lista1[2:5]\n",
    "#\n",
    "lista1.append([\"gbi6\", \"bio1\", \"ikiam\"])\n",
    "len(lista1)\n"
   ]
  },
  {
   "cell_type": "code",
   "execution_count": null,
   "metadata": {},
   "outputs": [],
   "source": []
  }
 ],
 "metadata": {
  "kernelspec": {
   "display_name": "Python 3",
   "language": "python",
   "name": "python3"
  },
  "language_info": {
   "codemirror_mode": {
    "name": "ipython",
    "version": 3
   },
   "file_extension": ".py",
   "mimetype": "text/x-python",
   "name": "python",
   "nbconvert_exporter": "python",
   "pygments_lexer": "ipython3",
   "version": "3.8.8"
  },
  "latex_envs": {
   "LaTeX_envs_menu_present": true,
   "autoclose": false,
   "autocomplete": true,
   "bibliofile": "biblio.bib",
   "cite_by": "apalike",
   "current_citInitial": 1,
   "eqLabelWithNumbers": true,
   "eqNumInitial": 1,
   "hotkeys": {
    "equation": "Ctrl-E",
    "itemize": "Ctrl-I"
   },
   "labels_anchors": false,
   "latex_user_defs": false,
   "report_style_numbering": false,
   "user_envs_cfg": false
  },
  "toc": {
   "base_numbering": 1,
   "nav_menu": {},
   "number_sections": true,
   "sideBar": false,
   "skip_h1_title": false,
   "title_cell": "Table of Contents",
   "title_sidebar": "Contents",
   "toc_cell": false,
   "toc_position": {
    "height": "1152.67px",
    "left": "41px",
    "top": "110px",
    "width": "253.458px"
   },
   "toc_section_display": true,
   "toc_window_display": false
  },
  "varInspector": {
   "cols": {
    "lenName": 16,
    "lenType": 16,
    "lenVar": 40
   },
   "kernels_config": {
    "python": {
     "delete_cmd_postfix": "",
     "delete_cmd_prefix": "del ",
     "library": "var_list.py",
     "varRefreshCmd": "print(var_dic_list())"
    },
    "r": {
     "delete_cmd_postfix": ") ",
     "delete_cmd_prefix": "rm(",
     "library": "var_list.r",
     "varRefreshCmd": "cat(var_dic_list()) "
    }
   },
   "types_to_exclude": [
    "module",
    "function",
    "builtin_function_or_method",
    "instance",
    "_Feature"
   ],
   "window_display": false
  }
 },
 "nbformat": 4,
 "nbformat_minor": 4
}
